{
 "cells": [
  {
   "cell_type": "code",
   "execution_count": 1,
   "metadata": {},
   "outputs": [
    {
     "name": "stdout",
     "output_type": "stream",
     "text": [
      "Entre com sua altura em cm: \n",
      "165\n",
      "Entre com o seu peso em Kg: \n",
      "69\n",
      "Entre com o numero do sapato: \n",
      "39\n",
      "['male']\n",
      "\n",
      "\n",
      "Tecle Enter para fechar  \n"
     ]
    }
   ],
   "source": [
    "#-------------------------------------------\n",
    "#line cmd: python \\jython2.7b3\\demo_AI_01.py\n",
    "#-------------------------------------------\n",
    "#importando biblioteca AI python\n",
    "from sklearn.datasets import load_iris\n",
    "from sklearn import tree\n",
    "\n",
    "# criando a rede de AI com informacoes de altura, peso e tamanho do calcado\n",
    "x = [[181,80,44], [177,70,43], [160,60,38], [154,54,37], [166,65,40]]\n",
    "\n",
    "# rotulando as informacoes acima\n",
    "y = ['male', 'female','female','female','male']\n",
    "\n",
    "def gender(a,p,s):\n",
    "   #iris = load_iris()\n",
    "   clf = tree.DecisionTreeClassifier()\n",
    "   clf = clf.fit(x,y)\n",
    "   prediction = clf.predict([[a,p,s]])\n",
    "   print(prediction)\n",
    "   #tree.plot_tree(clf.fit(iris.data, iris.target))\n",
    "\n",
    "n = 0\n",
    "while n == 0:\n",
    "    a = input(\"Entre com sua altura em cm: \\n\")\n",
    "    if not a.isdigit():\n",
    "        print(\" Valor informado \" + a + \" não é um número valido!\\n\", end= \" \")\n",
    "        #print(\"Digite apenas numeros cabecudo! \\n\")\n",
    "    else:\n",
    "        a = float(a)\n",
    "        n = -1\n",
    "\n",
    "n = 0\n",
    "while n == 0:\n",
    "    p = input(\"Entre com o seu peso em Kg: \\n\")\n",
    "    if not p.isdigit():\n",
    "        print(\" Valor informado \" + p + \" não é um número valido!\\n\", end= \" \")\n",
    "        #print(\"Digite apenas numeros cabecudo! \\n\")\n",
    "    else:\n",
    "        p = float(a)\n",
    "        n = -1\n",
    "\n",
    "n = 0\n",
    "while n == 0:\n",
    "    s = input(\"Entre com o numero do sapato: \\n\")\n",
    "    if not s.isdigit():\n",
    "        print(\" Valor informado \" + s + \" não é um número valido!\\n\", end= \" \")\n",
    "        #print(\"Digite apenas numeros cabecudo! \\n\")\n",
    "    else:\n",
    "        s = int(a)\n",
    "        n = -1\n",
    "\n",
    "gender(a,p,s)\n",
    "print(\"\\n\")\n",
    "q=input(\"Tecle Enter para fechar \")\n"
   ]
  },
  {
   "cell_type": "code",
   "execution_count": null,
   "metadata": {},
   "outputs": [],
   "source": []
  }
 ],
 "metadata": {
  "kernelspec": {
   "display_name": "Python 3",
   "language": "python",
   "name": "python3"
  },
  "language_info": {
   "codemirror_mode": {
    "name": "ipython",
    "version": 3
   },
   "file_extension": ".py",
   "mimetype": "text/x-python",
   "name": "python",
   "nbconvert_exporter": "python",
   "pygments_lexer": "ipython3",
   "version": "3.7.3"
  }
 },
 "nbformat": 4,
 "nbformat_minor": 2
}
