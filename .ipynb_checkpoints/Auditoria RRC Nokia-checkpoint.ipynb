{
 "cells": [
  {
   "cell_type": "code",
   "execution_count": 1,
   "metadata": {},
   "outputs": [
    {
     "name": "stderr",
     "output_type": "stream",
     "text": [
      "C:\\Users\\f8026379\\AppData\\Local\\Continuum\\anaconda3\\lib\\site-packages\\IPython\\core\\interactiveshell.py:3049: DtypeWarning: Columns (1) have mixed types. Specify dtype option on import or set low_memory=False.\n",
      "  interactivity=interactivity, compiler=compiler, result=result)\n"
     ]
    }
   ],
   "source": [
    "import pandas as pd\n",
    "from pandas import Series,DataFrame\n",
    "import numpy as np\n",
    "import os\n",
    "\n",
    "#seleção da pasta\n",
    "os.chdir('C:/Users/f8026379/Documents/MANP/Budget 2019/PAYG/Nokia/Q4')\n",
    "\n",
    "#função para extração do dia do time stamp \n",
    "def dia(d):\n",
    "    return d[0:10]\n",
    "\n",
    "#abertura de arquivos\n",
    "df_Nokia=pd.read_csv('KpiSelection__NETWORK_hr_2019-12-01_2019-12-31_2020020712155387_179_122.csv',sep='\\t')\n",
    "\n",
    "#coluna dia do mês\n",
    "df_Nokia['DIA']=df_Nokia.PERIOD_START_TIME.apply(dia)\n",
    "\n",
    "\n",
    "#calculo do RRC médio\n",
    "df_Nokia_max=df_Nokia.groupby(by=['MRBTS_NAME','DIA']).max()\n",
    "df_Nokia_sum_max=df_Nokia_max.groupby('MRBTS_NAME').sum()\n",
    "df_Nokia_MAX=df_Nokia_max.groupby('MRBTS_NAME').max()\n",
    "df_rrc_nok=pd.merge(df_Nokia_sum_max,df_Nokia_MAX,on='MRBTS_NAME')\n",
    "detalhe=df_Nokia_max.unstack()\n",
    "\n",
    "#geração do report\n",
    "writer = pd.ExcelWriter('Report.xlsx', engine='xlsxwriter')\n",
    "df_rrc_nok.to_excel(writer, 'Base')\n",
    "detalhe.to_excel(writer,'detalhe')\n",
    "writer.save()"
   ]
  },
  {
   "cell_type": "code",
   "execution_count": null,
   "metadata": {},
   "outputs": [],
   "source": []
  }
 ],
 "metadata": {
  "kernelspec": {
   "display_name": "Python 3",
   "language": "python",
   "name": "python3"
  },
  "language_info": {
   "codemirror_mode": {
    "name": "ipython",
    "version": 3
   },
   "file_extension": ".py",
   "mimetype": "text/x-python",
   "name": "python",
   "nbconvert_exporter": "python",
   "pygments_lexer": "ipython3",
   "version": "3.7.3"
  }
 },
 "nbformat": 4,
 "nbformat_minor": 2
}
