{
 "cells": [
  {
   "cell_type": "markdown",
   "metadata": {},
   "source": [
    " Programação Orientada a Objeto (POO)"
   ]
  },
  {
   "cell_type": "markdown",
   "metadata": {},
   "source": [
    "Um exercício de criação de uma classe com alguns atributos e métodos.\n",
    "Neste exemplo, criei uma classe que define uma célula 4G com os atributos de BW, Banda, cell throughput, volume e user thp, bem como o seu target de utilização.\n",
    "Adicionei os métodos para calculo de utilização, capacidade instalada, alteração do target de utilização e um check de status:"
   ]
  },
  {
   "cell_type": "code",
   "execution_count": 1,
   "metadata": {},
   "outputs": [],
   "source": [
    "class Cell(object):\n",
    "    \n",
    "    #parametros de celula\n",
    "    def __init__(self, bw=10,band=700,cell_thp=1.0,vol=1.0,uthp=1.0,tgt_util=.725):\n",
    "        self.bw=bw\n",
    "        self.band=band\n",
    "        self.cell_thp=cell_thp\n",
    "        self.vol=vol\n",
    "        self.uthp=uthp\n",
    "        self.tgt_util=tgt_util\n",
    "        \n",
    "    # Método que redefine o Target de utilização\n",
    "    def setTgt(self, tgt_util):\n",
    "        self.tgt_util = tgt_util    \n",
    "        \n",
    "    \n",
    "    #metodo que calcula utilização\n",
    "    def utilization(self):\n",
    "        return min(1,self.vol/self.cell_thp/439.45)\n",
    "    \n",
    "    #capacidade da celula em volume kByte\n",
    "    def capacidade(self):\n",
    "        return self.tgt_util*self.cell_thp*439.45\n",
    "    \n",
    "    #status da celula quanto a throughput de usuario\n",
    "    def status(self):\n",
    "        if  self.utilization() > self.tgt_util:\n",
    "            if self.uthp<3000:\n",
    "                return \"Critica\"\n",
    "            elif self.uthp<5000:\n",
    "                return \"Alerta\"\n",
    "            else:\n",
    "                return \"Ok\"\n",
    "        return \"OK\""
   ]
  },
  {
   "cell_type": "markdown",
   "metadata": {},
   "source": [
    "Criando uma célula ficticia para fazer alguns testes:"
   ]
  },
  {
   "cell_type": "code",
   "execution_count": 2,
   "metadata": {},
   "outputs": [],
   "source": [
    "#criando uma célula SLSP2040A com seus atributos:\n",
    "SLSP2040A=Cell(bw=15,band=1800,cell_thp=13000,uthp=2900,vol=4300000)"
   ]
  },
  {
   "cell_type": "markdown",
   "metadata": {},
   "source": [
    "Vamos checar a capacidade instalada da célula:"
   ]
  },
  {
   "cell_type": "code",
   "execution_count": 3,
   "metadata": {},
   "outputs": [
    {
     "data": {
      "text/plain": [
       "4141816.25"
      ]
     },
     "execution_count": 3,
     "metadata": {},
     "output_type": "execute_result"
    }
   ],
   "source": [
    "#passando o método capacidade em volume kbyte:\n",
    "SLSP2040A.capacidade()"
   ]
  },
  {
   "cell_type": "markdown",
   "metadata": {},
   "source": [
    "Esta capacidade é menor que o volume cursado de 4300000\n"
   ]
  },
  {
   "cell_type": "code",
   "execution_count": 3,
   "metadata": {},
   "outputs": [
    {
     "data": {
      "text/plain": [
       "0.7526891131396763"
      ]
     },
     "execution_count": 3,
     "metadata": {},
     "output_type": "execute_result"
    }
   ],
   "source": [
    "#passando o método utilization para calcular sua utilização:\n",
    "SLSP2040A.utilization()"
   ]
  },
  {
   "cell_type": "markdown",
   "metadata": {},
   "source": [
    "0.7527 > que o tgt_util default de 0.725, assim, já que o user thp é 2900kpbs, vamos checar seu status:"
   ]
  },
  {
   "cell_type": "code",
   "execution_count": 4,
   "metadata": {
    "scrolled": true
   },
   "outputs": [
    {
     "data": {
      "text/plain": [
       "'Critica'"
      ]
     },
     "execution_count": 4,
     "metadata": {},
     "output_type": "execute_result"
    }
   ],
   "source": [
    "#passando o método status para verificar sua situação:\n",
    "SLSP2040A.status()"
   ]
  },
  {
   "cell_type": "markdown",
   "metadata": {},
   "source": [
    "Alterando o tgt_util da célula para um valor maior, a célula passa para o status \"OK\""
   ]
  },
  {
   "cell_type": "code",
   "execution_count": 5,
   "metadata": {},
   "outputs": [],
   "source": [
    "#Alterando o target de utilização para um outro valor\n",
    "SLSP2040A.setTgt(.825)"
   ]
  },
  {
   "cell_type": "code",
   "execution_count": 6,
   "metadata": {},
   "outputs": [
    {
     "data": {
      "text/plain": [
       "'OK'"
      ]
     },
     "execution_count": 6,
     "metadata": {},
     "output_type": "execute_result"
    }
   ],
   "source": [
    "#verificando novamente o status da célula\n",
    "SLSP2040A.status()"
   ]
  },
  {
   "cell_type": "code",
   "execution_count": 7,
   "metadata": {},
   "outputs": [
    {
     "data": {
      "text/plain": [
       "0.825"
      ]
     },
     "execution_count": 7,
     "metadata": {},
     "output_type": "execute_result"
    }
   ],
   "source": [
    "#passando o método tgt_util para checar o tgt utilização da célula\n",
    "SLSP2040A.tgt_util"
   ]
  },
  {
   "cell_type": "markdown",
   "metadata": {},
   "source": [
    "E a capacidade instalada agora fica maior que o volume cursado:"
   ]
  },
  {
   "cell_type": "code",
   "execution_count": 7,
   "metadata": {},
   "outputs": [
    {
     "data": {
      "text/plain": [
       "4713101.25"
      ]
     },
     "execution_count": 7,
     "metadata": {},
     "output_type": "execute_result"
    }
   ],
   "source": [
    "#passando o método capacidade em volume kbyte:\n",
    "SLSP2040A.capacidade()"
   ]
  }
 ],
 "metadata": {
  "kernelspec": {
   "display_name": "Python 3",
   "language": "python",
   "name": "python3"
  },
  "language_info": {
   "codemirror_mode": {
    "name": "ipython",
    "version": 3
   },
   "file_extension": ".py",
   "mimetype": "text/x-python",
   "name": "python",
   "nbconvert_exporter": "python",
   "pygments_lexer": "ipython3",
   "version": "3.7.3"
  }
 },
 "nbformat": 4,
 "nbformat_minor": 2
}
